{
 "cells": [
  {
   "cell_type": "code",
   "execution_count": null,
   "metadata": {},
   "outputs": [],
   "source": [
    "import pandas as pd\n",
    "import numpy as np, pandas as pd\n",
    "import matplotlib.pyplot as plt\n",
    "from statsmodels.tsa.arima.model import ARIMA\n",
    "import warnings\n",
    "warnings.filterwarnings('ignore')"
   ]
  },
  {
   "cell_type": "code",
   "execution_count": null,
   "metadata": {},
   "outputs": [],
   "source": [
    "data=pd.read_csv('continuous_flights_data.csv')"
   ]
  },
  {
   "cell_type": "code",
   "execution_count": null,
   "metadata": {},
   "outputs": [],
   "source": [
    "prange=range(0,5)\n",
    "qrange=range(0,5)"
   ]
  },
  {
   "cell_type": "code",
   "execution_count": null,
   "metadata": {},
   "outputs": [],
   "source": [
    "bo={}\n",
    "for i in data['FLIGHT_ID'].unique():\n",
    "    bestaic=np.Inf\n",
    "    bestorder=None\n",
    "    for p in prange:\n",
    "        for q in qrange:\n",
    "            try:\n",
    "                model=ARIMA(data[data['FLIGHT_ID']==i]['ARRIVAL_DELAY'],order=(p,0,q))\n",
    "                results=model.fit()\n",
    "                aic=results.aic\n",
    "                if aic<bestaic:\n",
    "                    bestaic=aic\n",
    "                    bestorder=(p,0,q)\n",
    "            except:\n",
    "                continue\n",
    "    bo[i]=bestorder\n",
    "    print(i,bestorder)"
   ]
  },
  {
   "cell_type": "code",
   "execution_count": null,
   "metadata": {},
   "outputs": [],
   "source": [
    "df = pd.DataFrame(bo)\n",
    "df.to_csv('arima.csv', index=False, header=True)"
   ]
  }
 ],
 "metadata": {
  "kernelspec": {
   "display_name": "base",
   "language": "python",
   "name": "python3"
  },
  "language_info": {
   "name": "python",
   "version": "3.9.16"
  }
 },
 "nbformat": 4,
 "nbformat_minor": 2
}
