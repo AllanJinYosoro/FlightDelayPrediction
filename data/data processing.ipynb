{
 "cells": [
  {
   "cell_type": "markdown",
   "metadata": {},
   "source": [
    "# import & read"
   ]
  },
  {
   "cell_type": "code",
   "execution_count": 1,
   "metadata": {},
   "outputs": [],
   "source": [
    "import pandas as pd\n",
    "from datetime import time\n",
    "from datetime import timedelta"
   ]
  },
  {
   "cell_type": "code",
   "execution_count": 2,
   "metadata": {},
   "outputs": [
    {
     "name": "stderr",
     "output_type": "stream",
     "text": [
      "C:\\Users\\Administrator\\AppData\\Local\\Temp\\ipykernel_2140\\1255340642.py:1: DtypeWarning: Columns (7,8) have mixed types. Specify dtype option on import or set low_memory=False.\n",
      "  data=pd.read_csv('flights.csv')\n"
     ]
    }
   ],
   "source": [
    "data=pd.read_csv('flights.csv')"
   ]
  },
  {
   "cell_type": "code",
   "execution_count": 3,
   "metadata": {},
   "outputs": [],
   "source": [
    "ap=pd.read_csv('AIRPORTID.csv', encoding='gbk')"
   ]
  },
  {
   "cell_type": "code",
   "execution_count": 4,
   "metadata": {},
   "outputs": [
    {
     "name": "stdout",
     "output_type": "stream",
     "text": [
      "{'YEAR': 0, 'MONTH': 0, 'DAY': 0, 'DAY_OF_WEEK': 0, 'AIRLINE': 0, 'FLIGHT_NUMBER': 0, 'TAIL_NUMBER': 14721, 'ORIGIN_AIRPORT': 0, 'DESTINATION_AIRPORT': 0, 'SCHEDULED_DEPARTURE': 0, 'DEPARTURE_TIME': 86153, 'DEPARTURE_DELAY': 86153, 'TAXI_OUT': 89047, 'WHEELS_OFF': 89047, 'SCHEDULED_TIME': 6, 'ELAPSED_TIME': 105071, 'AIR_TIME': 105071, 'DISTANCE': 0, 'WHEELS_ON': 92513, 'TAXI_IN': 92513, 'SCHEDULED_ARRIVAL': 0, 'ARRIVAL_TIME': 92513, 'ARRIVAL_DELAY': 105071, 'DIVERTED': 0, 'CANCELLED': 0, 'CANCELLATION_REASON': 5729195, 'AIR_SYSTEM_DELAY': 4755640, 'SECURITY_DELAY': 4755640, 'AIRLINE_DELAY': 4755640, 'LATE_AIRCRAFT_DELAY': 4755640, 'WEATHER_DELAY': 4755640}\n"
     ]
    }
   ],
   "source": [
    "null_counts = data.isnull().sum()\n",
    "print(null_counts.to_dict())"
   ]
  },
  {
   "cell_type": "markdown",
   "metadata": {},
   "source": [
    "# \"code\" processing"
   ]
  },
  {
   "cell_type": "code",
   "execution_count": 5,
   "metadata": {},
   "outputs": [],
   "source": [
    "lookup_dict = ap.set_index('Code')['IATA_CODE'].to_dict()\n"
   ]
  },
  {
   "cell_type": "code",
   "execution_count": 6,
   "metadata": {},
   "outputs": [],
   "source": [
    "data['ORIGIN_AIRPORT_IATA'] = data['ORIGIN_AIRPORT'].apply(pd.to_numeric, errors='coerce').map(lookup_dict)\n",
    "data['ORIGIN_AIRPORT_IATA'].fillna(data['ORIGIN_AIRPORT'],inplace=True)"
   ]
  },
  {
   "cell_type": "code",
   "execution_count": 7,
   "metadata": {},
   "outputs": [],
   "source": [
    "data['DESTINATION_AIRPORT_IATA'] = data['DESTINATION_AIRPORT'].apply(pd.to_numeric, errors='coerce').map(lookup_dict)\n",
    "data['DESTINATION_AIRPORT_IATA'].fillna(data['DESTINATION_AIRPORT'],inplace=True)"
   ]
  },
  {
   "cell_type": "markdown",
   "metadata": {},
   "source": [
    "# datetime processing"
   ]
  },
  {
   "cell_type": "code",
   "execution_count": 8,
   "metadata": {},
   "outputs": [],
   "source": [
    "data['Date'] = pd.to_datetime(data['YEAR'].astype(str) + '-' + data['MONTH'].astype(str) + '-' + data['DAY'].astype(str))"
   ]
  },
  {
   "cell_type": "code",
   "execution_count": 9,
   "metadata": {},
   "outputs": [],
   "source": [
    "timelist=['SCHEDULED_DEPARTURE','DEPARTURE_TIME','WHEELS_OFF','WHEELS_ON','SCHEDULED_ARRIVAL','ARRIVAL_TIME']\n",
    "tl=['SD','DT','WF','WN','SA','AT']\n",
    "\n",
    "def convert_to_time(time_int):\n",
    "    hours = time_int // 100\n",
    "    minutes = time_int % 100\n",
    "    return time(hours, minutes)\n",
    "\n",
    "for m in range(6):\n",
    "    i=timelist[m]\n",
    "    j=tl[m]\n",
    "    data[i]= data[i].replace(2400, 0)\n",
    "    data.loc[data[i].notna(),j]= data.loc[data[i].notna(),i].astype(int).apply(convert_to_time)\n",
    "    #data.loc[data[j].notna(),j]=pd.to_datetime(data.loc[data[j].notna(),'Date'].astype(str)+' '+data.loc[data[j].notna(),j].astype(str))\n"
   ]
  },
  {
   "cell_type": "code",
   "execution_count": 10,
   "metadata": {},
   "outputs": [
    {
     "name": "stderr",
     "output_type": "stream",
     "text": [
      "C:\\Users\\Administrator\\AppData\\Local\\Temp\\ipykernel_2140\\2962505970.py:1: DeprecationWarning: In a future version, `df.iloc[:, i] = newvals` will attempt to set the values inplace instead of always setting a new array. To retain the old behavior, use either `df[df.columns[i]] = newvals` or, if columns are non-unique, `df.isetitem(i, newvals)`\n",
      "  data.loc[data['SD'].notna(),'SD']=pd.to_datetime(data.loc[data['SD'].notna(),'Date'].astype(str)\\\n"
     ]
    }
   ],
   "source": [
    "data.loc[data['SD'].notna(),'SD']=pd.to_datetime(data.loc[data['SD'].notna(),'Date'].astype(str)\\\n",
    "                                                 +' '+data.loc[data['SD'].notna(),'SD'].astype(str))"
   ]
  },
  {
   "cell_type": "code",
   "execution_count": 11,
   "metadata": {},
   "outputs": [],
   "source": [
    "mask1=(data['DEPARTURE_DELAY']>(1439-data['SCHEDULED_DEPARTURE']//100*60-data['SCHEDULED_DEPARTURE']%100)) &(data['DEPARTURE_TIME'].notna())\n",
    "mask2=(data['DEPARTURE_DELAY']<=(1439-data['SCHEDULED_DEPARTURE']//100*60-data['SCHEDULED_DEPARTURE']%100))\\\n",
    "    & (data['DEPARTURE_DELAY']+data['SCHEDULED_DEPARTURE']//100*60+data['SCHEDULED_DEPARTURE']%100>=0)\\\n",
    "        &(data['DEPARTURE_TIME'].notna())\n",
    "mask3=(data['DEPARTURE_DELAY']+data['SCHEDULED_DEPARTURE']//100*60+data['SCHEDULED_DEPARTURE']%100<0)&(data['DEPARTURE_TIME'].notna())"
   ]
  },
  {
   "cell_type": "code",
   "execution_count": 12,
   "metadata": {},
   "outputs": [],
   "source": [
    "data.loc[mask1,'DT']=pd.to_datetime(data.loc[mask1,'Date'].astype(str)+' '+data.loc[mask1,'DT'].astype(str))+timedelta(days=1)\n",
    "data.loc[mask2,'DT']=pd.to_datetime(data.loc[mask2,'Date'].astype(str)+' '+data.loc[mask2,'DT'].astype(str))\n",
    "data.loc[mask3,'DT']=pd.to_datetime(data.loc[mask3,'Date'].astype(str)+' '+data.loc[mask3,'DT'].astype(str))+timedelta(days=-1)"
   ]
  },
  {
   "cell_type": "code",
   "execution_count": 13,
   "metadata": {},
   "outputs": [],
   "source": [
    "mask4=(mask1 | (mask2 & (data['DEPARTURE_TIME']>data['WHEELS_OFF']))) & (data['WHEELS_OFF'].notna())\n",
    "mask5=((mask2 & (data['DEPARTURE_TIME']<=data['WHEELS_OFF']))|(mask3 & (data['DEPARTURE_TIME']>data['WHEELS_OFF'])))& (data['WHEELS_OFF'].notna())\n",
    "mask6=(mask3 & (data['DEPARTURE_TIME']<=data['WHEELS_OFF']))& (data['WHEELS_OFF'].notna())"
   ]
  },
  {
   "cell_type": "code",
   "execution_count": 14,
   "metadata": {},
   "outputs": [],
   "source": [
    "data.loc[mask4,'WF']=pd.to_datetime(data.loc[mask4,'Date'].astype(str)+' '+data.loc[mask4,'WF'].astype(str))+timedelta(days=1)\n",
    "data.loc[mask5,'WF']=pd.to_datetime(data.loc[mask5,'Date'].astype(str)+' '+data.loc[mask5,'WF'].astype(str))\n",
    "data.loc[mask6,'WF']=pd.to_datetime(data.loc[mask6,'Date'].astype(str)+' '+data.loc[mask6,'WF'].astype(str))+timedelta(days=-1)"
   ]
  },
  {
   "cell_type": "code",
   "execution_count": 15,
   "metadata": {},
   "outputs": [],
   "source": [
    "mask7=(mask1 | (mask2 & (data['DEPARTURE_TIME']>data['WHEELS_ON'])&\\\n",
    "                (data['DEPARTURE_TIME']-data['WHEELS_ON']+data['TAXI_OUT']+data['AIR_TIME']>60))) & (data['WHEELS_ON'].notna())\n",
    "mask8=(~(mask1 | (mask2 & (data['DEPARTURE_TIME']>data['WHEELS_ON'])&\\\n",
    "                (data['DEPARTURE_TIME']-data['WHEELS_ON']+data['TAXI_OUT']+data['AIR_TIME']>60))))& (data['WHEELS_ON'].notna())"
   ]
  },
  {
   "cell_type": "code",
   "execution_count": 16,
   "metadata": {},
   "outputs": [],
   "source": [
    "data.loc[mask7,'WN']=pd.to_datetime(data.loc[mask7,'Date'].astype(str)+' '+data.loc[mask7,'WN'].astype(str))+timedelta(days=1)\n",
    "data.loc[mask8,'WN']=pd.to_datetime(data.loc[mask8,'Date'].astype(str)+' '+data.loc[mask8,'WN'].astype(str))"
   ]
  },
  {
   "cell_type": "code",
   "execution_count": 17,
   "metadata": {},
   "outputs": [],
   "source": [
    "mask9=((data['SCHEDULED_DEPARTURE']>data['SCHEDULED_ARRIVAL'])&(data['SCHEDULED_DEPARTURE']-data['SCHEDULED_ARRIVAL']>60-data['SCHEDULED_TIME']))|\\\n",
    "    ((data['SCHEDULED_TIME'].isnull())&(data['SCHEDULED_DEPARTURE']>data['SCHEDULED_ARRIVAL']))\n",
    "mask10=~mask9"
   ]
  },
  {
   "cell_type": "code",
   "execution_count": 18,
   "metadata": {},
   "outputs": [],
   "source": [
    "data.loc[mask9,'SA']=pd.to_datetime(data.loc[mask9,'Date'].astype(str)+' '+data.loc[mask9,'SA'].astype(str))+timedelta(days=1)\n",
    "data.loc[mask10,'SA']=pd.to_datetime(data.loc[mask10,'Date'].astype(str)+' '+data.loc[mask10,'SA'].astype(str))"
   ]
  },
  {
   "cell_type": "code",
   "execution_count": 19,
   "metadata": {},
   "outputs": [],
   "source": [
    "mask11=(mask1 | (mask2 & (data['DEPARTURE_TIME']>data['ARRIVAL_TIME'])&\\\n",
    "                 (data['DEPARTURE_TIME']-data['ARRIVAL_TIME']+data['ELAPSED_TIME']>60))) & (data['ARRIVAL_TIME'].notna())\n",
    "mask12=(~(mask1 | (mask2 & (data['DEPARTURE_TIME']>data['ARRIVAL_TIME'])&\\\n",
    "                 (data['DEPARTURE_TIME']-data['ARRIVAL_TIME']+data['ELAPSED_TIME']>60))))& (data['ARRIVAL_TIME'].notna())"
   ]
  },
  {
   "cell_type": "code",
   "execution_count": 20,
   "metadata": {},
   "outputs": [],
   "source": [
    "data.loc[mask11,'AT']=pd.to_datetime(data.loc[mask11,'Date'].astype(str)+' '+data.loc[mask11,'AT'].astype(str))+timedelta(days=1)\n",
    "data.loc[mask12,'AT']=pd.to_datetime(data.loc[mask12,'Date'].astype(str)+' '+data.loc[mask12,'AT'].astype(str))"
   ]
  },
  {
   "cell_type": "code",
   "execution_count": 21,
   "metadata": {},
   "outputs": [
    {
     "name": "stdout",
     "output_type": "stream",
     "text": [
      "2015-01-01 00:05:00 <class 'pandas._libs.tslibs.timestamps.Timestamp'>\n",
      "2014-12-31 23:54:00 <class 'pandas._libs.tslibs.timestamps.Timestamp'>\n",
      "nan <class 'float'>\n",
      "2015-01-01 00:15:00 <class 'pandas._libs.tslibs.timestamps.Timestamp'>\n",
      "nan <class 'float'>\n",
      "2015-01-01 04:04:00 <class 'pandas._libs.tslibs.timestamps.Timestamp'>\n",
      "nan <class 'float'>\n",
      "2015-01-01 04:30:00 <class 'pandas._libs.tslibs.timestamps.Timestamp'>\n",
      "2015-01-01 04:08:00 <class 'pandas._libs.tslibs.timestamps.Timestamp'>\n",
      "nan <class 'float'>\n"
     ]
    }
   ],
   "source": [
    "#test\n",
    "for t in tl:\n",
    "    l=[]\n",
    "    for i in data[t]:\n",
    "        if type(i) not in l:\n",
    "            l.append(type(i))\n",
    "            print(i,type(i))\n"
   ]
  },
  {
   "cell_type": "markdown",
   "metadata": {},
   "source": [
    "# reason processing"
   ]
  },
  {
   "cell_type": "code",
   "execution_count": 22,
   "metadata": {},
   "outputs": [],
   "source": [
    "delayreason=['AIR_SYSTEM_DELAY', 'SECURITY_DELAY', 'AIRLINE_DELAY', 'LATE_AIRCRAFT_DELAY', 'WEATHER_DELAY']"
   ]
  },
  {
   "cell_type": "code",
   "execution_count": 23,
   "metadata": {},
   "outputs": [],
   "source": [
    "maskr=((data['ARRIVAL_DELAY']>0) & (data['AIR_SYSTEM_DELAY'].isnull()))| (data['ARRIVAL_DELAY']<=0)\n",
    "#not included: diverted/cancelled"
   ]
  },
  {
   "cell_type": "code",
   "execution_count": 24,
   "metadata": {},
   "outputs": [],
   "source": [
    "for i in delayreason:\n",
    "    data.loc[maskr,i]=0"
   ]
  },
  {
   "cell_type": "markdown",
   "metadata": {},
   "source": [
    "# 输出"
   ]
  },
  {
   "cell_type": "code",
   "execution_count": 25,
   "metadata": {},
   "outputs": [
    {
     "data": {
      "text/html": [
       "<div>\n",
       "<style scoped>\n",
       "    .dataframe tbody tr th:only-of-type {\n",
       "        vertical-align: middle;\n",
       "    }\n",
       "\n",
       "    .dataframe tbody tr th {\n",
       "        vertical-align: top;\n",
       "    }\n",
       "\n",
       "    .dataframe thead th {\n",
       "        text-align: right;\n",
       "    }\n",
       "</style>\n",
       "<table border=\"1\" class=\"dataframe\">\n",
       "  <thead>\n",
       "    <tr style=\"text-align: right;\">\n",
       "      <th></th>\n",
       "      <th>YEAR</th>\n",
       "      <th>MONTH</th>\n",
       "      <th>DAY</th>\n",
       "      <th>DAY_OF_WEEK</th>\n",
       "      <th>FLIGHT_NUMBER</th>\n",
       "      <th>SCHEDULED_DEPARTURE</th>\n",
       "      <th>DEPARTURE_TIME</th>\n",
       "      <th>DEPARTURE_DELAY</th>\n",
       "      <th>TAXI_OUT</th>\n",
       "      <th>WHEELS_OFF</th>\n",
       "      <th>...</th>\n",
       "      <th>SCHEDULED_ARRIVAL</th>\n",
       "      <th>ARRIVAL_TIME</th>\n",
       "      <th>ARRIVAL_DELAY</th>\n",
       "      <th>DIVERTED</th>\n",
       "      <th>CANCELLED</th>\n",
       "      <th>AIR_SYSTEM_DELAY</th>\n",
       "      <th>SECURITY_DELAY</th>\n",
       "      <th>AIRLINE_DELAY</th>\n",
       "      <th>LATE_AIRCRAFT_DELAY</th>\n",
       "      <th>WEATHER_DELAY</th>\n",
       "    </tr>\n",
       "  </thead>\n",
       "  <tbody>\n",
       "    <tr>\n",
       "      <th>count</th>\n",
       "      <td>5819079.0</td>\n",
       "      <td>5.819079e+06</td>\n",
       "      <td>5.819079e+06</td>\n",
       "      <td>5.819079e+06</td>\n",
       "      <td>5.819079e+06</td>\n",
       "      <td>5.819079e+06</td>\n",
       "      <td>5.732926e+06</td>\n",
       "      <td>5.732926e+06</td>\n",
       "      <td>5.730032e+06</td>\n",
       "      <td>5.730032e+06</td>\n",
       "      <td>...</td>\n",
       "      <td>5.819079e+06</td>\n",
       "      <td>5.726566e+06</td>\n",
       "      <td>5.714008e+06</td>\n",
       "      <td>5.819079e+06</td>\n",
       "      <td>5.819079e+06</td>\n",
       "      <td>5.714008e+06</td>\n",
       "      <td>5.714008e+06</td>\n",
       "      <td>5.714008e+06</td>\n",
       "      <td>5.714008e+06</td>\n",
       "      <td>5.714008e+06</td>\n",
       "    </tr>\n",
       "    <tr>\n",
       "      <th>mean</th>\n",
       "      <td>2015.0</td>\n",
       "      <td>6.524085e+00</td>\n",
       "      <td>1.570459e+01</td>\n",
       "      <td>3.926941e+00</td>\n",
       "      <td>2.173093e+03</td>\n",
       "      <td>1.329602e+03</td>\n",
       "      <td>1.334990e+03</td>\n",
       "      <td>9.370158e+00</td>\n",
       "      <td>1.607166e+01</td>\n",
       "      <td>1.356866e+03</td>\n",
       "      <td>...</td>\n",
       "      <td>1.493807e+03</td>\n",
       "      <td>1.475462e+03</td>\n",
       "      <td>4.407057e+00</td>\n",
       "      <td>2.609863e-03</td>\n",
       "      <td>1.544643e-02</td>\n",
       "      <td>2.508880e+00</td>\n",
       "      <td>1.417306e-02</td>\n",
       "      <td>3.530439e+00</td>\n",
       "      <td>4.368550e+00</td>\n",
       "      <td>5.425671e-01</td>\n",
       "    </tr>\n",
       "    <tr>\n",
       "      <th>std</th>\n",
       "      <td>0.0</td>\n",
       "      <td>3.405137e+00</td>\n",
       "      <td>8.783425e+00</td>\n",
       "      <td>1.988845e+00</td>\n",
       "      <td>1.757064e+03</td>\n",
       "      <td>4.837518e+02</td>\n",
       "      <td>4.964817e+02</td>\n",
       "      <td>3.708094e+01</td>\n",
       "      <td>8.895574e+00</td>\n",
       "      <td>4.981054e+02</td>\n",
       "      <td>...</td>\n",
       "      <td>5.071652e+02</td>\n",
       "      <td>5.268592e+02</td>\n",
       "      <td>3.927130e+01</td>\n",
       "      <td>5.102012e-02</td>\n",
       "      <td>1.233201e-01</td>\n",
       "      <td>1.317102e+01</td>\n",
       "      <td>9.251752e-01</td>\n",
       "      <td>2.204992e+01</td>\n",
       "      <td>2.075421e+01</td>\n",
       "      <td>8.887775e+00</td>\n",
       "    </tr>\n",
       "    <tr>\n",
       "      <th>min</th>\n",
       "      <td>2015.0</td>\n",
       "      <td>1.000000e+00</td>\n",
       "      <td>1.000000e+00</td>\n",
       "      <td>1.000000e+00</td>\n",
       "      <td>1.000000e+00</td>\n",
       "      <td>1.000000e+00</td>\n",
       "      <td>0.000000e+00</td>\n",
       "      <td>-8.200000e+01</td>\n",
       "      <td>1.000000e+00</td>\n",
       "      <td>0.000000e+00</td>\n",
       "      <td>...</td>\n",
       "      <td>0.000000e+00</td>\n",
       "      <td>0.000000e+00</td>\n",
       "      <td>-8.700000e+01</td>\n",
       "      <td>0.000000e+00</td>\n",
       "      <td>0.000000e+00</td>\n",
       "      <td>0.000000e+00</td>\n",
       "      <td>0.000000e+00</td>\n",
       "      <td>0.000000e+00</td>\n",
       "      <td>0.000000e+00</td>\n",
       "      <td>0.000000e+00</td>\n",
       "    </tr>\n",
       "    <tr>\n",
       "      <th>25%</th>\n",
       "      <td>2015.0</td>\n",
       "      <td>4.000000e+00</td>\n",
       "      <td>8.000000e+00</td>\n",
       "      <td>2.000000e+00</td>\n",
       "      <td>7.300000e+02</td>\n",
       "      <td>9.170000e+02</td>\n",
       "      <td>9.210000e+02</td>\n",
       "      <td>-5.000000e+00</td>\n",
       "      <td>1.100000e+01</td>\n",
       "      <td>9.350000e+02</td>\n",
       "      <td>...</td>\n",
       "      <td>1.110000e+03</td>\n",
       "      <td>1.058000e+03</td>\n",
       "      <td>-1.300000e+01</td>\n",
       "      <td>0.000000e+00</td>\n",
       "      <td>0.000000e+00</td>\n",
       "      <td>0.000000e+00</td>\n",
       "      <td>0.000000e+00</td>\n",
       "      <td>0.000000e+00</td>\n",
       "      <td>0.000000e+00</td>\n",
       "      <td>0.000000e+00</td>\n",
       "    </tr>\n",
       "    <tr>\n",
       "      <th>50%</th>\n",
       "      <td>2015.0</td>\n",
       "      <td>7.000000e+00</td>\n",
       "      <td>1.600000e+01</td>\n",
       "      <td>4.000000e+00</td>\n",
       "      <td>1.690000e+03</td>\n",
       "      <td>1.325000e+03</td>\n",
       "      <td>1.330000e+03</td>\n",
       "      <td>-2.000000e+00</td>\n",
       "      <td>1.400000e+01</td>\n",
       "      <td>1.343000e+03</td>\n",
       "      <td>...</td>\n",
       "      <td>1.520000e+03</td>\n",
       "      <td>1.512000e+03</td>\n",
       "      <td>-5.000000e+00</td>\n",
       "      <td>0.000000e+00</td>\n",
       "      <td>0.000000e+00</td>\n",
       "      <td>0.000000e+00</td>\n",
       "      <td>0.000000e+00</td>\n",
       "      <td>0.000000e+00</td>\n",
       "      <td>0.000000e+00</td>\n",
       "      <td>0.000000e+00</td>\n",
       "    </tr>\n",
       "    <tr>\n",
       "      <th>75%</th>\n",
       "      <td>2015.0</td>\n",
       "      <td>9.000000e+00</td>\n",
       "      <td>2.300000e+01</td>\n",
       "      <td>6.000000e+00</td>\n",
       "      <td>3.230000e+03</td>\n",
       "      <td>1.730000e+03</td>\n",
       "      <td>1.740000e+03</td>\n",
       "      <td>7.000000e+00</td>\n",
       "      <td>1.900000e+01</td>\n",
       "      <td>1.754000e+03</td>\n",
       "      <td>...</td>\n",
       "      <td>1.918000e+03</td>\n",
       "      <td>1.916000e+03</td>\n",
       "      <td>8.000000e+00</td>\n",
       "      <td>0.000000e+00</td>\n",
       "      <td>0.000000e+00</td>\n",
       "      <td>0.000000e+00</td>\n",
       "      <td>0.000000e+00</td>\n",
       "      <td>0.000000e+00</td>\n",
       "      <td>0.000000e+00</td>\n",
       "      <td>0.000000e+00</td>\n",
       "    </tr>\n",
       "    <tr>\n",
       "      <th>max</th>\n",
       "      <td>2015.0</td>\n",
       "      <td>1.200000e+01</td>\n",
       "      <td>3.100000e+01</td>\n",
       "      <td>7.000000e+00</td>\n",
       "      <td>9.855000e+03</td>\n",
       "      <td>2.359000e+03</td>\n",
       "      <td>2.359000e+03</td>\n",
       "      <td>1.988000e+03</td>\n",
       "      <td>2.250000e+02</td>\n",
       "      <td>2.359000e+03</td>\n",
       "      <td>...</td>\n",
       "      <td>2.359000e+03</td>\n",
       "      <td>2.359000e+03</td>\n",
       "      <td>1.971000e+03</td>\n",
       "      <td>1.000000e+00</td>\n",
       "      <td>1.000000e+00</td>\n",
       "      <td>1.134000e+03</td>\n",
       "      <td>5.730000e+02</td>\n",
       "      <td>1.971000e+03</td>\n",
       "      <td>1.331000e+03</td>\n",
       "      <td>1.211000e+03</td>\n",
       "    </tr>\n",
       "  </tbody>\n",
       "</table>\n",
       "<p>8 rows × 26 columns</p>\n",
       "</div>"
      ],
      "text/plain": [
       "            YEAR         MONTH           DAY   DAY_OF_WEEK  FLIGHT_NUMBER  \\\n",
       "count  5819079.0  5.819079e+06  5.819079e+06  5.819079e+06   5.819079e+06   \n",
       "mean      2015.0  6.524085e+00  1.570459e+01  3.926941e+00   2.173093e+03   \n",
       "std          0.0  3.405137e+00  8.783425e+00  1.988845e+00   1.757064e+03   \n",
       "min       2015.0  1.000000e+00  1.000000e+00  1.000000e+00   1.000000e+00   \n",
       "25%       2015.0  4.000000e+00  8.000000e+00  2.000000e+00   7.300000e+02   \n",
       "50%       2015.0  7.000000e+00  1.600000e+01  4.000000e+00   1.690000e+03   \n",
       "75%       2015.0  9.000000e+00  2.300000e+01  6.000000e+00   3.230000e+03   \n",
       "max       2015.0  1.200000e+01  3.100000e+01  7.000000e+00   9.855000e+03   \n",
       "\n",
       "       SCHEDULED_DEPARTURE  DEPARTURE_TIME  DEPARTURE_DELAY      TAXI_OUT  \\\n",
       "count         5.819079e+06    5.732926e+06     5.732926e+06  5.730032e+06   \n",
       "mean          1.329602e+03    1.334990e+03     9.370158e+00  1.607166e+01   \n",
       "std           4.837518e+02    4.964817e+02     3.708094e+01  8.895574e+00   \n",
       "min           1.000000e+00    0.000000e+00    -8.200000e+01  1.000000e+00   \n",
       "25%           9.170000e+02    9.210000e+02    -5.000000e+00  1.100000e+01   \n",
       "50%           1.325000e+03    1.330000e+03    -2.000000e+00  1.400000e+01   \n",
       "75%           1.730000e+03    1.740000e+03     7.000000e+00  1.900000e+01   \n",
       "max           2.359000e+03    2.359000e+03     1.988000e+03  2.250000e+02   \n",
       "\n",
       "         WHEELS_OFF  ...  SCHEDULED_ARRIVAL  ARRIVAL_TIME  ARRIVAL_DELAY  \\\n",
       "count  5.730032e+06  ...       5.819079e+06  5.726566e+06   5.714008e+06   \n",
       "mean   1.356866e+03  ...       1.493807e+03  1.475462e+03   4.407057e+00   \n",
       "std    4.981054e+02  ...       5.071652e+02  5.268592e+02   3.927130e+01   \n",
       "min    0.000000e+00  ...       0.000000e+00  0.000000e+00  -8.700000e+01   \n",
       "25%    9.350000e+02  ...       1.110000e+03  1.058000e+03  -1.300000e+01   \n",
       "50%    1.343000e+03  ...       1.520000e+03  1.512000e+03  -5.000000e+00   \n",
       "75%    1.754000e+03  ...       1.918000e+03  1.916000e+03   8.000000e+00   \n",
       "max    2.359000e+03  ...       2.359000e+03  2.359000e+03   1.971000e+03   \n",
       "\n",
       "           DIVERTED     CANCELLED  AIR_SYSTEM_DELAY  SECURITY_DELAY  \\\n",
       "count  5.819079e+06  5.819079e+06      5.714008e+06    5.714008e+06   \n",
       "mean   2.609863e-03  1.544643e-02      2.508880e+00    1.417306e-02   \n",
       "std    5.102012e-02  1.233201e-01      1.317102e+01    9.251752e-01   \n",
       "min    0.000000e+00  0.000000e+00      0.000000e+00    0.000000e+00   \n",
       "25%    0.000000e+00  0.000000e+00      0.000000e+00    0.000000e+00   \n",
       "50%    0.000000e+00  0.000000e+00      0.000000e+00    0.000000e+00   \n",
       "75%    0.000000e+00  0.000000e+00      0.000000e+00    0.000000e+00   \n",
       "max    1.000000e+00  1.000000e+00      1.134000e+03    5.730000e+02   \n",
       "\n",
       "       AIRLINE_DELAY  LATE_AIRCRAFT_DELAY  WEATHER_DELAY  \n",
       "count   5.714008e+06         5.714008e+06   5.714008e+06  \n",
       "mean    3.530439e+00         4.368550e+00   5.425671e-01  \n",
       "std     2.204992e+01         2.075421e+01   8.887775e+00  \n",
       "min     0.000000e+00         0.000000e+00   0.000000e+00  \n",
       "25%     0.000000e+00         0.000000e+00   0.000000e+00  \n",
       "50%     0.000000e+00         0.000000e+00   0.000000e+00  \n",
       "75%     0.000000e+00         0.000000e+00   0.000000e+00  \n",
       "max     1.971000e+03         1.331000e+03   1.211000e+03  \n",
       "\n",
       "[8 rows x 26 columns]"
      ]
     },
     "execution_count": 25,
     "metadata": {},
     "output_type": "execute_result"
    }
   ],
   "source": [
    "data.describe()"
   ]
  },
  {
   "cell_type": "code",
   "execution_count": 26,
   "metadata": {},
   "outputs": [],
   "source": [
    "data.to_csv('process.csv')"
   ]
  }
 ],
 "metadata": {
  "kernelspec": {
   "display_name": "base",
   "language": "python",
   "name": "python3"
  },
  "language_info": {
   "codemirror_mode": {
    "name": "ipython",
    "version": 3
   },
   "file_extension": ".py",
   "mimetype": "text/x-python",
   "name": "python",
   "nbconvert_exporter": "python",
   "pygments_lexer": "ipython3",
   "version": "3.9.16"
  }
 },
 "nbformat": 4,
 "nbformat_minor": 2
}
